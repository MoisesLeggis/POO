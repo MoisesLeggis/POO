{
  "nbformat": 4,
  "nbformat_minor": 0,
  "metadata": {
    "colab": {
      "provenance": [],
      "authorship_tag": "ABX9TyMtdWEy1f+E/VypK1Gg+csw",
      "include_colab_link": true
    },
    "kernelspec": {
      "name": "python3",
      "display_name": "Python 3"
    },
    "language_info": {
      "name": "python"
    }
  },
  "cells": [
    {
      "cell_type": "markdown",
      "metadata": {
        "id": "view-in-github",
        "colab_type": "text"
      },
      "source": [
        "<a href=\"https://colab.research.google.com/github/MoisesLeggis/POO/blob/main/Serializacion_Objetos.ipynb\" target=\"_parent\"><img src=\"https://colab.research.google.com/assets/colab-badge.svg\" alt=\"Open In Colab\"/></a>"
      ]
    },
    {
      "cell_type": "code",
      "execution_count": 1,
      "metadata": {
        "id": "-ERXO7RaENj2"
      },
      "outputs": [],
      "source": [
        "import pickle\n",
        "list=[\"apple\", \"grapes\",\"pear\"]\n",
        "with open(\"lst.pkl\",'wb') as file:\n",
        "  pickle.dump(list,file)\n",
        "# lista guardado en un archivo serializando la lista"
      ]
    },
    {
      "cell_type": "code",
      "source": [
        "import pickle\n",
        "with open(\"lst.pkl\",'rb') as file:\n",
        "  retrive_list= pickle.load(file)\n",
        "print(retrive_list)\n",
        "# lista recuperada del archivo serializando donde se encuentra la lista"
      ],
      "metadata": {
        "colab": {
          "base_uri": "https://localhost:8080/"
        },
        "id": "hOT7caFWJWCT",
        "outputId": "cde8cbb8-32af-423a-cb50-5f3c223ef925"
      },
      "execution_count": 6,
      "outputs": [
        {
          "output_type": "stream",
          "name": "stdout",
          "text": [
            "['apple', 'grapes', 'pear']\n"
          ]
        }
      ]
    },
    {
      "cell_type": "code",
      "source": [
        "import pickle\n",
        "import os\n",
        "class Student:\n",
        "  def __init__(self, student_id, name, age, gender, grade, email, phone,␣\n",
        "  ↪address):\n",
        "  self.student_id = student_id\n",
        "  self.name = name\n",
        "  self.age = age\n",
        "  self.gender = gender\n",
        "  self.grade = grade\n",
        "  self.email = email\n",
        "  self.phone = phone\n",
        "  self.address = address\n",
        "  def __str__(self):\n",
        "  return (f\"ID: {self.student_id}, Name: {self.name}, Age: {self.age},␣\n",
        "    ↪Gender: {self.gender}, \"\n",
        "    f\"Grade: {self.grade}, Email: {self.email}, Phone: {self.\n",
        "    ↪phone}, Address: {self.address}\")\n",
        "\n",
        "class StudentCRUD:\n",
        "  FILE_NAME = 'students.pkl'\n",
        "  def __init__(self):\n",
        "  self.students = self.load_students()\n",
        "  def load_students(self):\n",
        "  \"\"\"Load students from the pickle file.\"\"\"\n",
        "  if os.path.exists(self.FILE_NAME):\n",
        "    with open(self.FILE_NAME, 'rb') as f:\n",
        "      return pickle.load(f)\n",
        "  return []\n",
        "\n",
        "  def save_students(self):\n",
        "\"\"\"Save students to the pickle file.\"\"\"\n",
        "  with open(self.FILE_NAME, 'wb') as f:\n",
        "    pickle.dump(self.students, f)\n",
        "\n",
        "  def create_student(self, student):\n",
        "\"\"\"Add a new student.\"\"\"\n",
        "  self.students.append(student)\n",
        "  self.save_students()\n",
        "  print(f\"Student {student.name} added successfully.\")\n",
        "\n",
        "  def read_student(self, student_id):\n",
        "\"\"\"Retrieve a student by ID.\"\"\"\n",
        "  for student in self.students:\n",
        "    if student.student_id == student_id:\n",
        "      return student\n",
        "  print(f\"No student found with ID: {student_id}\")\n",
        "  return None\n",
        "\n",
        "  def update_student(self, student_id, **kwargs):\n",
        "\"\"\"Update student information.\"\"\"\n",
        "  student = self.read_student(student_id)\n",
        "  if student:\n",
        "    for key, value in kwargs.items():\n",
        "      if hasattr(student, key):\n",
        "        setattr(student, key, value)\n",
        "    self.save_students()\n",
        "    print(f\"Student {student_id} updated successfully.\")\n",
        "\n",
        "  def delete_student(self, student_id):\n",
        "  \"\"\"Delete a student by ID.\"\"\"\n",
        "  student = self.read_student(student_id)\n",
        "  if student:\n",
        "    self.students.remove(student)\n",
        "    self.save_students()\n",
        "    print(f\"Student {student_id} deleted successfully.\")\n",
        "\n",
        "  def list_students(self):\n",
        "\"\"\"List all students.\"\"\"\n",
        "  if self.students:\n",
        "    for student in self.students:\n",
        "      print(student)\n",
        "  else:\n",
        "    print(\"No students available.\")\n",
        "\n",
        "# Example usage\n",
        "if __name__ == '__main__':\n",
        "  crud = StudentCRUD()\n",
        "#\n",
        "  student1 = Student(1, \"Alice\", 20, \"Female\", \"A\", \"alice@example.com\",␣\n",
        "  ↪\"1234567890\", \"123 Main St\")\n",
        "  student2 = Student(2, \"Bob\", 22, \"Male\", \"B\", \"bob@example.com\",␣\n",
        "  ↪\"0987654321\", \"456 Elm St\")\n",
        "#\n",
        "  crud.create_student(student1)\n",
        "  crud.create_student(student2)\n",
        "#\n",
        "  print(\"\\nList of Students:\")\n",
        "  crud.list_students()\n",
        "#\n",
        "  crud.update_student(1, grade=\"A+\", phone=\"1112223333\")\n",
        "#\n",
        "  print(\"\\nUpdated Student Details:\")\n",
        "  print(crud.read_student(1))\n",
        "#\n",
        "  crud.delete_student(2)\n",
        "#\n",
        "  print(\"\\nList of Students after Deletion:\")\n",
        "  crud.list_students()"
      ],
      "metadata": {
        "colab": {
          "base_uri": "https://localhost:8080/",
          "height": 106
        },
        "id": "6-KibO5AL3ep",
        "outputId": "52958eb9-5092-4da7-ec88-3dea663539a2"
      },
      "execution_count": 10,
      "outputs": [
        {
          "output_type": "error",
          "ename": "SyntaxError",
          "evalue": "invalid character '␣' (U+2423) (<ipython-input-10-da0675bd59da>, line 4)",
          "traceback": [
            "\u001b[0;36m  File \u001b[0;32m\"<ipython-input-10-da0675bd59da>\"\u001b[0;36m, line \u001b[0;32m4\u001b[0m\n\u001b[0;31m    def __init__(self, student_id, name, age, gender, grade, email, phone,␣\u001b[0m\n\u001b[0m                                                                          ^\u001b[0m\n\u001b[0;31mSyntaxError\u001b[0m\u001b[0;31m:\u001b[0m invalid character '␣' (U+2423)\n"
          ]
        }
      ]
    }
  ]
}