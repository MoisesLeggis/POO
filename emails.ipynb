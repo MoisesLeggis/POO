{
  "nbformat": 4,
  "nbformat_minor": 0,
  "metadata": {
    "colab": {
      "provenance": [],
      "authorship_tag": "ABX9TyMvUKhIZMQR5EdaFbiTpRJQ",
      "include_colab_link": true
    },
    "kernelspec": {
      "name": "python3",
      "display_name": "Python 3"
    },
    "language_info": {
      "name": "python"
    }
  },
  "cells": [
    {
      "cell_type": "markdown",
      "metadata": {
        "id": "view-in-github",
        "colab_type": "text"
      },
      "source": [
        "<a href=\"https://colab.research.google.com/github/MoisesLeggis/POO/blob/main/emails.ipynb\" target=\"_parent\"><img src=\"https://colab.research.google.com/assets/colab-badge.svg\" alt=\"Open In Colab\"/></a>"
      ]
    },
    {
      "cell_type": "code",
      "execution_count": 6,
      "metadata": {
        "colab": {
          "base_uri": "https://localhost:8080/"
        },
        "id": "IJjluASBHwEx",
        "outputId": "ba1e20c3-beac-43f2-967c-15e4e7470d95"
      },
      "outputs": [
        {
          "output_type": "stream",
          "name": "stdout",
          "text": [
            "Correo enviado exitosamente 🎉\n"
          ]
        }
      ],
      "source": [
        "import smtplib, ssl\n",
        "\n",
        "# Configuración del servidor de Gmail\n",
        "port = 587\n",
        "smtp_server = \"smtp.gmail.com\"\n",
        "\n",
        "\n",
        "sender_email = \"mimiau102@gmail.com\"\n",
        "receiver_email = \"arturo.valdivia@academicos.udg.mx\"  # Correo del destinatario\n",
        "password = \"bqli dhuw kxbj qehw\"  # Contraseña de aplicación generada\n",
        "\n",
        "# Mensaje del correo\n",
        "message = \"\"\"\\\n",
        "Subject: Correo enviado desde Python\n",
        "\n",
        "Hola, creo que le envié un correo por medio de Python.\n",
        "\n",
        "Este es un correo enviado automáticamente usando Python.\n",
        "¡Espero que tengas un excelente día! :)\n",
        "Atte Moises Leggis\"\"\"\n",
        "\n",
        "# Envío del correo\n",
        "context = ssl.create_default_context()\n",
        "with smtplib.SMTP(smtp_server, port) as server:\n",
        "    server.ehlo()\n",
        "    server.starttls(context=context)\n",
        "    server.ehlo()\n",
        "    server.login(sender_email, password)\n",
        "    server.sendmail(sender_email, receiver_email, message.encode('utf-8'))\n",
        "\n",
        "\n",
        "print(\"Correo enviado exitosamente\")\n",
        "\n"
      ]
    }
  ]
}